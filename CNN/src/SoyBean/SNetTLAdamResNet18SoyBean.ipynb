{
    "cells": [
        {
            "attachments": {},
            "cell_type": "markdown",
            "id": "186b4d01",
            "metadata": {},
            "source": [
                "# Paths"
            ]
        },
        {
            "cell_type": "code",
            "execution_count": null,
            "id": "edb46185",
            "metadata": {},
            "outputs": [],
            "source": [
                "dataset_path = \"../datasets/SimpleSoyBean\"\n",
                "tensorboard_path = \"../logs/\"\n",
                "models_path = \"../models/SoyBean/\""
            ]
        },
        {
            "attachments": {},
            "cell_type": "markdown",
            "id": "096431d1",
            "metadata": {},
            "source": [
                "# Dataloader"
            ]
        },
        {
            "cell_type": "code",
            "execution_count": 3,
            "id": "d8934365",
            "metadata": {},
            "outputs": [],
            "source": [
                "import matplotlib.pyplot as plt\n",
                "import numpy as np\n",
                "\n",
                "def my_tensor_image_show ( image , label=None ):\n",
                "    image = image.numpy().transpose((1, 2, 0))\n",
                "    mean = np.array([0.485, 0.456, 0.406])\n",
                "    std = np.array([0.229, 0.224, 0.225])\n",
                "    image = std * image + mean\n",
                "    image = np.clip(image, 0, 1)\n",
                "    plt.imshow(image)\n",
                "    plt.axis('off')\n",
                "    if label is None :\n",
                "        plt.title('Image in tensor format.')\n",
                "    else :\n",
                "        plt.title(f'Image in tensor format | Class: {label:2d}')\n",
                "    plt.show()    "
            ]
        },
        {
            "cell_type": "code",
            "execution_count": null,
            "id": "f55b1d08",
            "metadata": {},
            "outputs": [],
            "source": [
                "from sklearn.model_selection import train_test_split\n",
                "from torch.utils.data import Subset\n",
                "\n",
                "# função para dividir o dataset em treino e teste\n",
                "def train_test_dataset(dataset, test_split=0.25):\n",
                "    train_idx, test_idx = train_test_split(list(range(len(dataset))), test_size=test_split)\n",
                "    train_data = Subset(dataset, train_idx)\n",
                "    test_data = Subset(dataset, test_idx)\n",
                "    return train_data, test_data"
            ]
        },
        {
            "cell_type": "code",
            "execution_count": null,
            "id": "fd823b2f",
            "metadata": {},
            "outputs": [],
            "source": [
                "# transformações para a ResNet18\n",
                "from torchvision.models import ResNet18_Weights\n",
                "my_transform = ResNet18_Weights.IMAGENET1K_V1.transforms()"
            ]
        },
        {
            "cell_type": "code",
            "execution_count": null,
            "id": "4bcf81bc",
            "metadata": {},
            "outputs": [],
            "source": [
                "import torch\n",
                "import torchvision\n",
                "\n",
                "# carrega o dataset de imagens com as transformações definidas\n",
                "data = torchvision.datasets.ImageFolder(root=dataset_path, transform=my_transform)\n",
                "\n",
                "# divide o dataset em treino e teste\n",
                "train_data, test_data = train_test_dataset(data, 0.30)\n",
                "\n",
                "batch_size = 512\n",
                "\n",
                "train_tensors = torch.utils.data.DataLoader(dataset=train_data, batch_size=batch_size, shuffle=True)\n",
                "test_tensors = torch.utils.data.DataLoader(dataset=test_data, batch_size=batch_size, shuffle=False)\n",
                "print(len(data))\n",
                "print(len(train_data))\n",
                "print(len(test_data))"
            ]
        },
        {
            "cell_type": "code",
            "execution_count": null,
            "id": "8f5f7c3e",
            "metadata": {},
            "outputs": [],
            "source": [
                "images, labels = next(iter(train_tensors))\n",
                "my_tensor_image_show(images[0], label=labels[0])"
            ]
        },
        {
            "cell_type": "code",
            "execution_count": null,
            "id": "3c024816",
            "metadata": {},
            "outputs": [
                {
                    "data": {
                        "image/png": "[encoded data removed]",
                        "text/plain": [
                            "<Figure size 640x480 with 1 Axes>"
                        ]
                    },
                    "metadata": {},
                    "output_type": "display_data"
                }
            ],
            "source": [
                "images, labels = next(iter(test_tensors))\n",
                "my_tensor_image_show(images[0], label=labels[0])"
            ]
        },
        {
            "attachments": {},
            "cell_type": "markdown",
            "id": "6e8962c7",
            "metadata": {},
            "source": [
                "# Training"
            ]
        },
        {
            "cell_type": "code",
            "execution_count": null,
            "id": "a43f19fe",
            "metadata": {},
            "outputs": [],
            "source": [
                "from torch.utils.tensorboard import SummaryWriter\n",
                "\n",
                "import torch.optim \n",
                "import matplotlib.pyplot as plt\n",
                "  \n",
                "from datetime import datetime\n",
                "\n",
                "from tqdm import tqdm\n",
                "\n",
                "import copy\n",
                "\n",
                "def plot_layers ( net , writer, epoch ) :\n",
                "    layers = list(net.fc.modules())\n",
                "    \n",
                "    layer_id = 1\n",
                "    for layer in layers:\n",
                "        if isinstance(layer, torch.nn.Linear) :\n",
                "\n",
                "#             writer.add_histogram('Bias/conv{}'.format(layer_id), layer.bias, \n",
                "#                                 epoch )\n",
                "            writer.add_histogram('Weight/conv{}'.format(layer_id), layer.weight, \n",
                "                                epoch )\n",
                "#             writer.add_histogram('Grad/conv{}'.format(layer_id), layer.weight.grad, \n",
                "#                                     epoch )\n",
                "            layer_id += 1\n",
                "\n",
                "\n",
                "def train ( train_loader, test_loader, net, dataset_size, my_device='cpu',\n",
                "           prefix=None, upper_bound=100.0, save=False, epochs=100, \n",
                "           lr=1e-1, device='cpu', debug=False, layers2tensorboard=False , batch_size=64) :\n",
                "\n",
                "    # otimizador e função de perda\n",
                "    optimizer = torch.optim.Adam(net.parameters(),lr=lr)\n",
                "    criterion = torch.nn.CrossEntropyLoss()\n",
                "    \n",
                "    now = datetime.now()\n",
                "    suffix = now.strftime(\"%Y%m%d_%H%M%S\")\n",
                "    prefix = suffix if prefix is None else prefix + '-' + suffix  \n",
                "\n",
                "    writer = SummaryWriter( log_dir=tensorboard_path+prefix )\n",
                "        \n",
                "    accuracies = []\n",
                "    max_accuracy = -1.0  \n",
                "\n",
                "    for inputs, labels in train_loader:\n",
                "        print(\"Labels:\", labels.unique())\n",
                "        break\n",
                "\n",
                "\n",
                "    for epoch in tqdm(range(epochs), desc='Training epochs...') :\n",
                "        net.train()\n",
                "        for idx, (train_x, train_label) in enumerate(train_loader):\n",
                "            train_x = train_x.to(device)\n",
                "            train_label = train_label.to(device)\n",
                "\n",
                "            predict_y = net( train_x )\n",
                "            \n",
                "            # loss\n",
                "            error = criterion( predict_y , train_label )\n",
                "\n",
                "            writer.add_scalar( 'Loss/train', error.cpu().item(), \n",
                "                                idx+( epoch*(dataset_size//batch_size) ) )\n",
                "\n",
                "            # backpropagation\n",
                "            optimizer.zero_grad()\n",
                "            error.backward()\n",
                "            optimizer.step()\n",
                "            \n",
                "            # accuracy\n",
                "            predict_ys = torch.max( predict_y, axis=1 )[1]\n",
                "            correct    = torch.sum(predict_ys == train_label)\n",
                "\n",
                "            writer.add_scalar( 'Accuracy/train', correct/train_x.size(0), \n",
                "                                idx+( epoch*(dataset_size//batch_size) ) )\n",
                "\n",
                "            if debug and idx % 10 == 0 :\n",
                "                print( f'idx: {idx:4d}, _error: {error.cpu().item():5.2f}' )\n",
                "\n",
                "        if layers2tensorboard :\n",
                "            plot_layers( net, writer, epoch )\n",
                "\n",
                "        accuracy = validate(net, test_loader, device=device)\n",
                "        accuracies.append(accuracy)\n",
                "        writer.add_scalar( 'Accuracy/test', accuracy, epoch )\n",
                "        \n",
                "        if accuracy > max_accuracy :\n",
                "            best_model = copy.deepcopy(net)\n",
                "            max_accuracy = accuracy\n",
                "            print(\"Saving Best Model with Accuracy: \", accuracy)\n",
                "        \n",
                "        print( f'Epoch: {epoch+1:3d} | Accuracy : {accuracy:7.4f}%' )\n",
                "\n",
                "        if accuracy > upper_bound :\n",
                "            break\n",
                "    \n",
                "    if save : \n",
                "        dataset = \"SoyBean\"\n",
                "        path = f'{models_path}ResNet18-{dataset}-{max_accuracy:.2f}.pkl'\n",
                "        torch.save(best_model, path)\n",
                "        print('Model saved in:',path)\n",
                "    \n",
                "    plt.plot(accuracies)\n",
                "\n",
                "    writer.flush()\n",
                "    writer.close()\n",
                "    \n",
                "    return best_model    "
            ]
        },
        {
            "attachments": {},
            "cell_type": "markdown",
            "id": "af14bae2",
            "metadata": {},
            "source": [
                "# Validation"
            ]
        },
        {
            "cell_type": "code",
            "execution_count": null,
            "id": "7125dc79",
            "metadata": {},
            "outputs": [],
            "source": [
                "# função de validação do modelo\n",
                "def validate ( model , data , device='cpu') :\n",
                "\n",
                "    model.eval()\n",
                "\n",
                "    correct = 0\n",
                "    sum = 0\n",
                "    \n",
                "    for idx, (test_x, test_label) in enumerate(data) : \n",
                "        test_x = test_x.to(device)\n",
                "        test_label = test_label.to(device)\n",
                "        predict_y = model( test_x ).detach()\n",
                "        predict_ys = torch.max( predict_y, axis=1 )[1]\n",
                "        sum = sum + test_x.size(0)\n",
                "        correct = correct + torch.sum(predict_ys == test_label)\n",
                "        correct = correct.cpu().item()\n",
                "    \n",
                "    return correct*100./sum"
            ]
        },
        {
            "attachments": {},
            "cell_type": "markdown",
            "id": "ac13ddce-2738-4924-bc60-b28d1647dc55",
            "metadata": {},
            "source": [
                "# Run"
            ]
        },
        {
            "cell_type": "code",
            "execution_count": 11,
            "id": "05d2f4b2",
            "metadata": {},
            "outputs": [
                {
                    "name": "stdout",
                    "output_type": "stream",
                    "text": [
                        "conv1.weight\n",
                        "bn1.weight\n",
                        "bn1.bias\n",
                        "layer1.0.conv1.weight\n",
                        "layer1.0.bn1.weight\n",
                        "layer1.0.bn1.bias\n",
                        "layer1.0.conv2.weight\n",
                        "layer1.0.bn2.weight\n",
                        "layer1.0.bn2.bias\n",
                        "layer1.1.conv1.weight\n",
                        "layer1.1.bn1.weight\n",
                        "layer1.1.bn1.bias\n",
                        "layer1.1.conv2.weight\n",
                        "layer1.1.bn2.weight\n",
                        "layer1.1.bn2.bias\n",
                        "layer2.0.conv1.weight\n",
                        "layer2.0.bn1.weight\n",
                        "layer2.0.bn1.bias\n",
                        "layer2.0.conv2.weight\n",
                        "layer2.0.bn2.weight\n",
                        "layer2.0.bn2.bias\n",
                        "layer2.0.downsample.0.weight\n",
                        "layer2.0.downsample.1.weight\n",
                        "layer2.0.downsample.1.bias\n",
                        "layer2.1.conv1.weight\n",
                        "layer2.1.bn1.weight\n",
                        "layer2.1.bn1.bias\n",
                        "layer2.1.conv2.weight\n",
                        "layer2.1.bn2.weight\n",
                        "layer2.1.bn2.bias\n",
                        "layer3.0.conv1.weight\n",
                        "layer3.0.bn1.weight\n",
                        "layer3.0.bn1.bias\n",
                        "layer3.0.conv2.weight\n",
                        "layer3.0.bn2.weight\n",
                        "layer3.0.bn2.bias\n",
                        "layer3.0.downsample.0.weight\n",
                        "layer3.0.downsample.1.weight\n",
                        "layer3.0.downsample.1.bias\n",
                        "layer3.1.conv1.weight\n",
                        "layer3.1.bn1.weight\n",
                        "layer3.1.bn1.bias\n",
                        "layer3.1.conv2.weight\n",
                        "layer3.1.bn2.weight\n",
                        "layer3.1.bn2.bias\n",
                        "layer4.0.conv1.weight\n",
                        "layer4.0.bn1.weight\n",
                        "layer4.0.bn1.bias\n",
                        "layer4.0.conv2.weight\n",
                        "layer4.0.bn2.weight\n",
                        "layer4.0.bn2.bias\n",
                        "layer4.0.downsample.0.weight\n",
                        "layer4.0.downsample.1.weight\n",
                        "layer4.0.downsample.1.bias\n",
                        "layer4.1.conv1.weight\n",
                        "layer4.1.bn1.weight\n",
                        "layer4.1.bn1.bias\n",
                        "layer4.1.conv2.weight\n",
                        "layer4.1.bn2.weight\n",
                        "layer4.1.bn2.bias\n",
                        "fc.weight\n",
                        "fc.bias\n"
                    ]
                }
            ],
            "source": [
                "import torch\n",
                "from torchvision.models import resnet18\n",
                "\n",
                "# arquivo com modelo treinado no dataset SoyNet\n",
                "path = './models/SoyNet/ResNet18-SoyNet-96.07.pkl'\n",
                "\n",
                "# carrega o modelo\n",
                "modelResNetTL = torch.load(path, weights_only=False)\n",
                "\n",
                "# verifica as camadas\n",
                "for name, param in modelResNetTL.named_parameters():\n",
                "    print(f\"{name}\")\n"
            ]
        },
        {
            "cell_type": "code",
            "execution_count": null,
            "id": "a7acf4d1-87ab-4671-a60a-172495a1bfc1",
            "metadata": {},
            "outputs": [],
            "source": [
                "# congela as camadas do modelo\n",
                "for param in modelResNetTL.parameters():\n",
                "    param.requires_grad = False\n",
                "\n",
                "# habilita o treinamento da camada final - Transfer Learning\n",
                "modelResNetTL.fc.requires_grad_(True)\n",
                "\n",
                "# define o número de classes do dataset SoyBean\n",
                "num_classes = 13\n",
                "modelResNetTL.fc = torch.nn.Linear(modelResNetTL.fc.in_features, num_classes)"
            ]
        },
        {
            "cell_type": "code",
            "execution_count": null,
            "id": "4b21e66a-22ee-47c6-aefd-ae5d5866a90d",
            "metadata": {},
            "outputs": [
                {
                    "name": "stdout",
                    "output_type": "stream",
                    "text": [
                        "conv1.weight: Frozen\n",
                        "bn1.weight: Frozen\n",
                        "bn1.bias: Frozen\n",
                        "layer1.0.conv1.weight: Frozen\n",
                        "layer1.0.bn1.weight: Frozen\n",
                        "layer1.0.bn1.bias: Frozen\n",
                        "layer1.0.conv2.weight: Frozen\n",
                        "layer1.0.bn2.weight: Frozen\n",
                        "layer1.0.bn2.bias: Frozen\n",
                        "layer1.1.conv1.weight: Frozen\n",
                        "layer1.1.bn1.weight: Frozen\n",
                        "layer1.1.bn1.bias: Frozen\n",
                        "layer1.1.conv2.weight: Frozen\n",
                        "layer1.1.bn2.weight: Frozen\n",
                        "layer1.1.bn2.bias: Frozen\n",
                        "layer2.0.conv1.weight: Frozen\n",
                        "layer2.0.bn1.weight: Frozen\n",
                        "layer2.0.bn1.bias: Frozen\n",
                        "layer2.0.conv2.weight: Frozen\n",
                        "layer2.0.bn2.weight: Frozen\n",
                        "layer2.0.bn2.bias: Frozen\n",
                        "layer2.0.downsample.0.weight: Frozen\n",
                        "layer2.0.downsample.1.weight: Frozen\n",
                        "layer2.0.downsample.1.bias: Frozen\n",
                        "layer2.1.conv1.weight: Frozen\n",
                        "layer2.1.bn1.weight: Frozen\n",
                        "layer2.1.bn1.bias: Frozen\n",
                        "layer2.1.conv2.weight: Frozen\n",
                        "layer2.1.bn2.weight: Frozen\n",
                        "layer2.1.bn2.bias: Frozen\n",
                        "layer3.0.conv1.weight: Frozen\n",
                        "layer3.0.bn1.weight: Frozen\n",
                        "layer3.0.bn1.bias: Frozen\n",
                        "layer3.0.conv2.weight: Frozen\n",
                        "layer3.0.bn2.weight: Frozen\n",
                        "layer3.0.bn2.bias: Frozen\n",
                        "layer3.0.downsample.0.weight: Frozen\n",
                        "layer3.0.downsample.1.weight: Frozen\n",
                        "layer3.0.downsample.1.bias: Frozen\n",
                        "layer3.1.conv1.weight: Frozen\n",
                        "layer3.1.bn1.weight: Frozen\n",
                        "layer3.1.bn1.bias: Frozen\n",
                        "layer3.1.conv2.weight: Frozen\n",
                        "layer3.1.bn2.weight: Frozen\n",
                        "layer3.1.bn2.bias: Frozen\n",
                        "layer4.0.conv1.weight: Frozen\n",
                        "layer4.0.bn1.weight: Frozen\n",
                        "layer4.0.bn1.bias: Frozen\n",
                        "layer4.0.conv2.weight: Frozen\n",
                        "layer4.0.bn2.weight: Frozen\n",
                        "layer4.0.bn2.bias: Frozen\n",
                        "layer4.0.downsample.0.weight: Frozen\n",
                        "layer4.0.downsample.1.weight: Frozen\n",
                        "layer4.0.downsample.1.bias: Frozen\n",
                        "layer4.1.conv1.weight: Frozen\n",
                        "layer4.1.bn1.weight: Frozen\n",
                        "layer4.1.bn1.bias: Frozen\n",
                        "layer4.1.conv2.weight: Frozen\n",
                        "layer4.1.bn2.weight: Frozen\n",
                        "layer4.1.bn2.bias: Frozen\n",
                        "fc.weight: Trainable\n",
                        "fc.bias: Trainable\n"
                    ]
                }
            ],
            "source": [
                "# verifica as camadas que estão congeladas\n",
                "for name, param in modelResNetTL.named_parameters():\n",
                "    status = \"Trainable\" if param.requires_grad else \"Frozen\"\n",
                "    print(f\"{name}: {status}\")"
            ]
        },
        {
            "cell_type": "code",
            "execution_count": null,
            "id": "f2ce52fc-15ad-4b8e-a298-1936f5731b1c",
            "metadata": {},
            "outputs": [
                {
                    "name": "stdout",
                    "output_type": "stream",
                    "text": [
                        "Running on cuda\n",
                        "Labels: tensor([ 0,  1,  2,  3,  4,  5,  6,  7,  8,  9, 10, 11, 12])\n"
                    ]
                },
                {
                    "name": "stderr",
                    "output_type": "stream",
                    "text": [
                        "Training epochs...:   1%|          | 1/100 [05:29<9:03:48, 329.58s/it]"
                    ]
                },
                {
                    "name": "stdout",
                    "output_type": "stream",
                    "text": [
                        "Saving Best Model with Accuracy:  9.116809116809117\n",
                        "Epoch:   1 | Accuracy :  9.1168%\n"
                    ]
                },
                {
                    "name": "stderr",
                    "output_type": "stream",
                    "text": [
                        "Training epochs...:   2%|▏         | 2/100 [06:56<5:05:16, 186.90s/it]"
                    ]
                },
                {
                    "name": "stdout",
                    "output_type": "stream",
                    "text": [
                        "Epoch:   2 | Accuracy :  8.8319%\n"
                    ]
                },
                {
                    "name": "stderr",
                    "output_type": "stream",
                    "text": [
                        "Training epochs...:   3%|▎         | 3/100 [08:23<3:48:41, 141.45s/it]"
                    ]
                },
                {
                    "name": "stdout",
                    "output_type": "stream",
                    "text": [
                        "Saving Best Model with Accuracy:  9.401709401709402\n",
                        "Epoch:   3 | Accuracy :  9.4017%\n"
                    ]
                },
                {
                    "name": "stderr",
                    "output_type": "stream",
                    "text": [
                        "Training epochs...:   4%|▍         | 4/100 [09:53<3:13:15, 120.78s/it]"
                    ]
                },
                {
                    "name": "stdout",
                    "output_type": "stream",
                    "text": [
                        "Saving Best Model with Accuracy:  10.256410256410257\n",
                        "Epoch:   4 | Accuracy : 10.2564%\n"
                    ]
                },
                {
                    "name": "stderr",
                    "output_type": "stream",
                    "text": [
                        "Training epochs...:   5%|▌         | 5/100 [11:22<2:53:15, 109.42s/it]"
                    ]
                },
                {
                    "name": "stdout",
                    "output_type": "stream",
                    "text": [
                        "Epoch:   5 | Accuracy :  9.9715%\n"
                    ]
                },
                {
                    "name": "stderr",
                    "output_type": "stream",
                    "text": [
                        "Training epochs...:   6%|▌         | 6/100 [12:53<2:41:39, 103.19s/it]"
                    ]
                },
                {
                    "name": "stdout",
                    "output_type": "stream",
                    "text": [
                        "Saving Best Model with Accuracy:  10.54131054131054\n",
                        "Epoch:   6 | Accuracy : 10.5413%\n"
                    ]
                },
                {
                    "name": "stderr",
                    "output_type": "stream",
                    "text": [
                        "Training epochs...:   7%|▋         | 7/100 [14:23<2:33:30, 99.03s/it] "
                    ]
                },
                {
                    "name": "stdout",
                    "output_type": "stream",
                    "text": [
                        "Epoch:   7 | Accuracy :  9.6866%\n"
                    ]
                },
                {
                    "name": "stderr",
                    "output_type": "stream",
                    "text": [
                        "Training epochs...:   8%|▊         | 8/100 [15:55<2:28:06, 96.59s/it]"
                    ]
                },
                {
                    "name": "stdout",
                    "output_type": "stream",
                    "text": [
                        "Saving Best Model with Accuracy:  11.11111111111111\n",
                        "Epoch:   8 | Accuracy : 11.1111%\n"
                    ]
                },
                {
                    "name": "stderr",
                    "output_type": "stream",
                    "text": [
                        "Training epochs...:   9%|▉         | 9/100 [17:25<2:23:22, 94.53s/it]"
                    ]
                },
                {
                    "name": "stdout",
                    "output_type": "stream",
                    "text": [
                        "Epoch:   9 | Accuracy : 11.1111%\n"
                    ]
                },
                {
                    "name": "stderr",
                    "output_type": "stream",
                    "text": [
                        "Training epochs...:  10%|█         | 10/100 [18:55<2:19:36, 93.07s/it]"
                    ]
                },
                {
                    "name": "stdout",
                    "output_type": "stream",
                    "text": [
                        "Saving Best Model with Accuracy:  11.965811965811966\n",
                        "Epoch:  10 | Accuracy : 11.9658%\n"
                    ]
                },
                {
                    "name": "stderr",
                    "output_type": "stream",
                    "text": [
                        "Training epochs...:  11%|█         | 11/100 [20:24<2:16:37, 92.10s/it]"
                    ]
                },
                {
                    "name": "stdout",
                    "output_type": "stream",
                    "text": [
                        "Saving Best Model with Accuracy:  12.535612535612536\n",
                        "Epoch:  11 | Accuracy : 12.5356%\n"
                    ]
                },
                {
                    "name": "stderr",
                    "output_type": "stream",
                    "text": [
                        "Training epochs...:  12%|█▏        | 12/100 [21:54<2:13:44, 91.19s/it]"
                    ]
                },
                {
                    "name": "stdout",
                    "output_type": "stream",
                    "text": [
                        "Saving Best Model with Accuracy:  13.39031339031339\n",
                        "Epoch:  12 | Accuracy : 13.3903%\n"
                    ]
                },
                {
                    "name": "stderr",
                    "output_type": "stream",
                    "text": [
                        "Training epochs...:  13%|█▎        | 13/100 [23:23<2:11:39, 90.80s/it]"
                    ]
                },
                {
                    "name": "stdout",
                    "output_type": "stream",
                    "text": [
                        "Saving Best Model with Accuracy:  14.52991452991453\n",
                        "Epoch:  13 | Accuracy : 14.5299%\n"
                    ]
                },
                {
                    "name": "stderr",
                    "output_type": "stream",
                    "text": [
                        "Training epochs...:  14%|█▍        | 14/100 [24:53<2:09:46, 90.54s/it]"
                    ]
                },
                {
                    "name": "stdout",
                    "output_type": "stream",
                    "text": [
                        "Epoch:  14 | Accuracy : 14.5299%\n"
                    ]
                },
                {
                    "name": "stderr",
                    "output_type": "stream",
                    "text": [
                        "Training epochs...:  15%|█▌        | 15/100 [26:24<2:08:22, 90.61s/it]"
                    ]
                },
                {
                    "name": "stdout",
                    "output_type": "stream",
                    "text": [
                        "Saving Best Model with Accuracy:  14.814814814814815\n",
                        "Epoch:  15 | Accuracy : 14.8148%\n"
                    ]
                },
                {
                    "name": "stderr",
                    "output_type": "stream",
                    "text": [
                        "Training epochs...:  16%|█▌        | 16/100 [27:54<2:06:33, 90.40s/it]"
                    ]
                },
                {
                    "name": "stdout",
                    "output_type": "stream",
                    "text": [
                        "Saving Best Model with Accuracy:  15.66951566951567\n",
                        "Epoch:  16 | Accuracy : 15.6695%\n"
                    ]
                },
                {
                    "name": "stderr",
                    "output_type": "stream",
                    "text": [
                        "Training epochs...:  17%|█▋        | 17/100 [29:23<2:04:17, 89.84s/it]"
                    ]
                },
                {
                    "name": "stdout",
                    "output_type": "stream",
                    "text": [
                        "Saving Best Model with Accuracy:  17.37891737891738\n",
                        "Epoch:  17 | Accuracy : 17.3789%\n"
                    ]
                },
                {
                    "name": "stderr",
                    "output_type": "stream",
                    "text": [
                        "Training epochs...:  18%|█▊        | 18/100 [30:52<2:02:27, 89.60s/it]"
                    ]
                },
                {
                    "name": "stdout",
                    "output_type": "stream",
                    "text": [
                        "Saving Best Model with Accuracy:  19.943019943019944\n",
                        "Epoch:  18 | Accuracy : 19.9430%\n"
                    ]
                },
                {
                    "name": "stderr",
                    "output_type": "stream",
                    "text": [
                        "Training epochs...:  19%|█▉        | 19/100 [32:21<2:00:48, 89.49s/it]"
                    ]
                },
                {
                    "name": "stdout",
                    "output_type": "stream",
                    "text": [
                        "Saving Best Model with Accuracy:  22.22222222222222\n",
                        "Epoch:  19 | Accuracy : 22.2222%\n"
                    ]
                },
                {
                    "name": "stderr",
                    "output_type": "stream",
                    "text": [
                        "Training epochs...:  20%|██        | 20/100 [33:51<1:59:33, 89.67s/it]"
                    ]
                },
                {
                    "name": "stdout",
                    "output_type": "stream",
                    "text": [
                        "Saving Best Model with Accuracy:  23.36182336182336\n",
                        "Epoch:  20 | Accuracy : 23.3618%\n"
                    ]
                },
                {
                    "name": "stderr",
                    "output_type": "stream",
                    "text": [
                        "Training epochs...:  21%|██        | 21/100 [35:22<1:58:28, 89.98s/it]"
                    ]
                },
                {
                    "name": "stdout",
                    "output_type": "stream",
                    "text": [
                        "Saving Best Model with Accuracy:  25.641025641025642\n",
                        "Epoch:  21 | Accuracy : 25.6410%\n"
                    ]
                },
                {
                    "name": "stderr",
                    "output_type": "stream",
                    "text": [
                        "Training epochs...:  22%|██▏       | 22/100 [36:52<1:56:54, 89.93s/it]"
                    ]
                },
                {
                    "name": "stdout",
                    "output_type": "stream",
                    "text": [
                        "Saving Best Model with Accuracy:  26.210826210826212\n",
                        "Epoch:  22 | Accuracy : 26.2108%\n"
                    ]
                },
                {
                    "name": "stderr",
                    "output_type": "stream",
                    "text": [
                        "Training epochs...:  23%|██▎       | 23/100 [38:20<1:54:58, 89.59s/it]"
                    ]
                },
                {
                    "name": "stdout",
                    "output_type": "stream",
                    "text": [
                        "Saving Best Model with Accuracy:  26.495726495726494\n",
                        "Epoch:  23 | Accuracy : 26.4957%\n"
                    ]
                },
                {
                    "name": "stderr",
                    "output_type": "stream",
                    "text": [
                        "Training epochs...:  24%|██▍       | 24/100 [39:50<1:53:20, 89.49s/it]"
                    ]
                },
                {
                    "name": "stdout",
                    "output_type": "stream",
                    "text": [
                        "Saving Best Model with Accuracy:  28.774928774928775\n",
                        "Epoch:  24 | Accuracy : 28.7749%\n"
                    ]
                },
                {
                    "name": "stderr",
                    "output_type": "stream",
                    "text": [
                        "Training epochs...:  25%|██▌       | 25/100 [41:19<1:51:54, 89.53s/it]"
                    ]
                },
                {
                    "name": "stdout",
                    "output_type": "stream",
                    "text": [
                        "Saving Best Model with Accuracy:  29.62962962962963\n",
                        "Epoch:  25 | Accuracy : 29.6296%\n"
                    ]
                },
                {
                    "name": "stderr",
                    "output_type": "stream",
                    "text": [
                        "Training epochs...:  26%|██▌       | 26/100 [42:49<1:50:35, 89.67s/it]"
                    ]
                },
                {
                    "name": "stdout",
                    "output_type": "stream",
                    "text": [
                        "Saving Best Model with Accuracy:  32.193732193732195\n",
                        "Epoch:  26 | Accuracy : 32.1937%\n"
                    ]
                },
                {
                    "name": "stderr",
                    "output_type": "stream",
                    "text": [
                        "Training epochs...:  27%|██▋       | 27/100 [44:20<1:49:39, 90.14s/it]"
                    ]
                },
                {
                    "name": "stdout",
                    "output_type": "stream",
                    "text": [
                        "Saving Best Model with Accuracy:  34.18803418803419\n",
                        "Epoch:  27 | Accuracy : 34.1880%\n"
                    ]
                },
                {
                    "name": "stderr",
                    "output_type": "stream",
                    "text": [
                        "Training epochs...:  28%|██▊       | 28/100 [45:49<1:47:42, 89.76s/it]"
                    ]
                },
                {
                    "name": "stdout",
                    "output_type": "stream",
                    "text": [
                        "Saving Best Model with Accuracy:  35.8974358974359\n",
                        "Epoch:  28 | Accuracy : 35.8974%\n"
                    ]
                },
                {
                    "name": "stderr",
                    "output_type": "stream",
                    "text": [
                        "Training epochs...:  29%|██▉       | 29/100 [47:19<1:46:07, 89.69s/it]"
                    ]
                },
                {
                    "name": "stdout",
                    "output_type": "stream",
                    "text": [
                        "Saving Best Model with Accuracy:  38.46153846153846\n",
                        "Epoch:  29 | Accuracy : 38.4615%\n"
                    ]
                },
                {
                    "name": "stderr",
                    "output_type": "stream",
                    "text": [
                        "Training epochs...:  30%|███       | 30/100 [48:49<1:44:42, 89.75s/it]"
                    ]
                },
                {
                    "name": "stdout",
                    "output_type": "stream",
                    "text": [
                        "Saving Best Model with Accuracy:  40.17094017094017\n",
                        "Epoch:  30 | Accuracy : 40.1709%\n"
                    ]
                },
                {
                    "name": "stderr",
                    "output_type": "stream",
                    "text": [
                        "Training epochs...:  31%|███       | 31/100 [50:18<1:42:56, 89.51s/it]"
                    ]
                },
                {
                    "name": "stdout",
                    "output_type": "stream",
                    "text": [
                        "Saving Best Model with Accuracy:  41.02564102564103\n",
                        "Epoch:  31 | Accuracy : 41.0256%\n"
                    ]
                },
                {
                    "name": "stderr",
                    "output_type": "stream",
                    "text": [
                        "Training epochs...:  32%|███▏      | 32/100 [51:47<1:41:31, 89.57s/it]"
                    ]
                },
                {
                    "name": "stdout",
                    "output_type": "stream",
                    "text": [
                        "Saving Best Model with Accuracy:  42.16524216524216\n",
                        "Epoch:  32 | Accuracy : 42.1652%\n"
                    ]
                },
                {
                    "name": "stderr",
                    "output_type": "stream",
                    "text": [
                        "Training epochs...:  33%|███▎      | 33/100 [53:17<1:40:05, 89.64s/it]"
                    ]
                },
                {
                    "name": "stdout",
                    "output_type": "stream",
                    "text": [
                        "Saving Best Model with Accuracy:  43.87464387464387\n",
                        "Epoch:  33 | Accuracy : 43.8746%\n"
                    ]
                },
                {
                    "name": "stderr",
                    "output_type": "stream",
                    "text": [
                        "Training epochs...:  34%|███▍      | 34/100 [54:47<1:38:29, 89.54s/it]"
                    ]
                },
                {
                    "name": "stdout",
                    "output_type": "stream",
                    "text": [
                        "Saving Best Model with Accuracy:  44.72934472934473\n",
                        "Epoch:  34 | Accuracy : 44.7293%\n"
                    ]
                },
                {
                    "name": "stderr",
                    "output_type": "stream",
                    "text": [
                        "Training epochs...:  35%|███▌      | 35/100 [56:16<1:36:57, 89.50s/it]"
                    ]
                },
                {
                    "name": "stdout",
                    "output_type": "stream",
                    "text": [
                        "Saving Best Model with Accuracy:  45.58404558404558\n",
                        "Epoch:  35 | Accuracy : 45.5840%\n"
                    ]
                },
                {
                    "name": "stderr",
                    "output_type": "stream",
                    "text": [
                        "Training epochs...:  36%|███▌      | 36/100 [57:45<1:35:25, 89.46s/it]"
                    ]
                },
                {
                    "name": "stdout",
                    "output_type": "stream",
                    "text": [
                        "Saving Best Model with Accuracy:  46.15384615384615\n",
                        "Epoch:  36 | Accuracy : 46.1538%\n"
                    ]
                },
                {
                    "name": "stderr",
                    "output_type": "stream",
                    "text": [
                        "Training epochs...:  37%|███▋      | 37/100 [59:14<1:33:48, 89.34s/it]"
                    ]
                },
                {
                    "name": "stdout",
                    "output_type": "stream",
                    "text": [
                        "Saving Best Model with Accuracy:  47.578347578347575\n",
                        "Epoch:  37 | Accuracy : 47.5783%\n"
                    ]
                },
                {
                    "name": "stderr",
                    "output_type": "stream",
                    "text": [
                        "Training epochs...:  38%|███▊      | 38/100 [1:00:44<1:32:22, 89.39s/it]"
                    ]
                },
                {
                    "name": "stdout",
                    "output_type": "stream",
                    "text": [
                        "Saving Best Model with Accuracy:  48.148148148148145\n",
                        "Epoch:  38 | Accuracy : 48.1481%\n"
                    ]
                },
                {
                    "name": "stderr",
                    "output_type": "stream",
                    "text": [
                        "Training epochs...:  39%|███▉      | 39/100 [1:02:13<1:30:52, 89.39s/it]"
                    ]
                },
                {
                    "name": "stdout",
                    "output_type": "stream",
                    "text": [
                        "Saving Best Model with Accuracy:  49.002849002849004\n",
                        "Epoch:  39 | Accuracy : 49.0028%\n"
                    ]
                },
                {
                    "name": "stderr",
                    "output_type": "stream",
                    "text": [
                        "Training epochs...:  40%|████      | 40/100 [1:03:43<1:29:32, 89.54s/it]"
                    ]
                },
                {
                    "name": "stdout",
                    "output_type": "stream",
                    "text": [
                        "Saving Best Model with Accuracy:  50.427350427350426\n",
                        "Epoch:  40 | Accuracy : 50.4274%\n"
                    ]
                },
                {
                    "name": "stderr",
                    "output_type": "stream",
                    "text": [
                        "Training epochs...:  41%|████      | 41/100 [1:05:12<1:27:59, 89.48s/it]"
                    ]
                },
                {
                    "name": "stdout",
                    "output_type": "stream",
                    "text": [
                        "Saving Best Model with Accuracy:  51.282051282051285\n",
                        "Epoch:  41 | Accuracy : 51.2821%\n"
                    ]
                },
                {
                    "name": "stderr",
                    "output_type": "stream",
                    "text": [
                        "Training epochs...:  42%|████▏     | 42/100 [1:06:42<1:26:30, 89.49s/it]"
                    ]
                },
                {
                    "name": "stdout",
                    "output_type": "stream",
                    "text": [
                        "Saving Best Model with Accuracy:  51.566951566951566\n",
                        "Epoch:  42 | Accuracy : 51.5670%\n"
                    ]
                },
                {
                    "name": "stderr",
                    "output_type": "stream",
                    "text": [
                        "Training epochs...:  43%|████▎     | 43/100 [1:08:12<1:25:04, 89.55s/it]"
                    ]
                },
                {
                    "name": "stdout",
                    "output_type": "stream",
                    "text": [
                        "Saving Best Model with Accuracy:  53.56125356125356\n",
                        "Epoch:  43 | Accuracy : 53.5613%\n"
                    ]
                },
                {
                    "name": "stderr",
                    "output_type": "stream",
                    "text": [
                        "Training epochs...:  44%|████▍     | 44/100 [1:09:42<1:23:41, 89.67s/it]"
                    ]
                },
                {
                    "name": "stdout",
                    "output_type": "stream",
                    "text": [
                        "Saving Best Model with Accuracy:  54.41595441595442\n",
                        "Epoch:  44 | Accuracy : 54.4160%\n"
                    ]
                },
                {
                    "name": "stderr",
                    "output_type": "stream",
                    "text": [
                        "Training epochs...:  45%|████▌     | 45/100 [1:11:11<1:22:12, 89.69s/it]"
                    ]
                },
                {
                    "name": "stdout",
                    "output_type": "stream",
                    "text": [
                        "Saving Best Model with Accuracy:  54.98575498575499\n",
                        "Epoch:  45 | Accuracy : 54.9858%\n"
                    ]
                },
                {
                    "name": "stderr",
                    "output_type": "stream",
                    "text": [
                        "Training epochs...:  46%|████▌     | 46/100 [1:12:41<1:20:41, 89.65s/it]"
                    ]
                },
                {
                    "name": "stdout",
                    "output_type": "stream",
                    "text": [
                        "Saving Best Model with Accuracy:  55.55555555555556\n",
                        "Epoch:  46 | Accuracy : 55.5556%\n"
                    ]
                },
                {
                    "name": "stderr",
                    "output_type": "stream",
                    "text": [
                        "Training epochs...:  47%|████▋     | 47/100 [1:14:10<1:19:09, 89.62s/it]"
                    ]
                },
                {
                    "name": "stdout",
                    "output_type": "stream",
                    "text": [
                        "Saving Best Model with Accuracy:  56.41025641025641\n",
                        "Epoch:  47 | Accuracy : 56.4103%\n"
                    ]
                },
                {
                    "name": "stderr",
                    "output_type": "stream",
                    "text": [
                        "Training epochs...:  48%|████▊     | 48/100 [1:15:40<1:17:43, 89.68s/it]"
                    ]
                },
                {
                    "name": "stdout",
                    "output_type": "stream",
                    "text": [
                        "Saving Best Model with Accuracy:  57.26495726495727\n",
                        "Epoch:  48 | Accuracy : 57.2650%\n"
                    ]
                },
                {
                    "name": "stderr",
                    "output_type": "stream",
                    "text": [
                        "Training epochs...:  49%|████▉     | 49/100 [1:17:11<1:16:22, 89.85s/it]"
                    ]
                },
                {
                    "name": "stdout",
                    "output_type": "stream",
                    "text": [
                        "Saving Best Model with Accuracy:  58.11965811965812\n",
                        "Epoch:  49 | Accuracy : 58.1197%\n"
                    ]
                },
                {
                    "name": "stderr",
                    "output_type": "stream",
                    "text": [
                        "Training epochs...:  50%|█████     | 50/100 [1:18:41<1:14:55, 89.91s/it]"
                    ]
                },
                {
                    "name": "stdout",
                    "output_type": "stream",
                    "text": [
                        "Saving Best Model with Accuracy:  58.97435897435897\n",
                        "Epoch:  50 | Accuracy : 58.9744%\n"
                    ]
                },
                {
                    "name": "stderr",
                    "output_type": "stream",
                    "text": [
                        "Training epochs...:  51%|█████     | 51/100 [1:20:10<1:13:21, 89.84s/it]"
                    ]
                },
                {
                    "name": "stdout",
                    "output_type": "stream",
                    "text": [
                        "Saving Best Model with Accuracy:  60.11396011396011\n",
                        "Epoch:  51 | Accuracy : 60.1140%\n"
                    ]
                },
                {
                    "name": "stderr",
                    "output_type": "stream",
                    "text": [
                        "Training epochs...:  52%|█████▏    | 52/100 [1:21:40<1:11:55, 89.91s/it]"
                    ]
                },
                {
                    "name": "stdout",
                    "output_type": "stream",
                    "text": [
                        "Saving Best Model with Accuracy:  60.3988603988604\n",
                        "Epoch:  52 | Accuracy : 60.3989%\n"
                    ]
                },
                {
                    "name": "stderr",
                    "output_type": "stream",
                    "text": [
                        "Training epochs...:  53%|█████▎    | 53/100 [1:23:10<1:10:28, 89.96s/it]"
                    ]
                },
                {
                    "name": "stdout",
                    "output_type": "stream",
                    "text": [
                        "Saving Best Model with Accuracy:  60.96866096866097\n",
                        "Epoch:  53 | Accuracy : 60.9687%\n"
                    ]
                },
                {
                    "name": "stderr",
                    "output_type": "stream",
                    "text": [
                        "Training epochs...:  54%|█████▍    | 54/100 [1:24:40<1:08:55, 89.90s/it]"
                    ]
                },
                {
                    "name": "stdout",
                    "output_type": "stream",
                    "text": [
                        "Epoch:  54 | Accuracy : 60.9687%\n"
                    ]
                },
                {
                    "name": "stderr",
                    "output_type": "stream",
                    "text": [
                        "Training epochs...:  55%|█████▌    | 55/100 [1:26:10<1:07:28, 89.96s/it]"
                    ]
                },
                {
                    "name": "stdout",
                    "output_type": "stream",
                    "text": [
                        "Epoch:  55 | Accuracy : 60.9687%\n"
                    ]
                },
                {
                    "name": "stderr",
                    "output_type": "stream",
                    "text": [
                        "Training epochs...:  56%|█████▌    | 56/100 [1:27:40<1:05:50, 89.78s/it]"
                    ]
                },
                {
                    "name": "stdout",
                    "output_type": "stream",
                    "text": [
                        "Saving Best Model with Accuracy:  61.53846153846154\n",
                        "Epoch:  56 | Accuracy : 61.5385%\n"
                    ]
                },
                {
                    "name": "stderr",
                    "output_type": "stream",
                    "text": [
                        "Training epochs...:  57%|█████▋    | 57/100 [1:29:08<1:04:07, 89.48s/it]"
                    ]
                },
                {
                    "name": "stdout",
                    "output_type": "stream",
                    "text": [
                        "Saving Best Model with Accuracy:  61.82336182336182\n",
                        "Epoch:  57 | Accuracy : 61.8234%\n"
                    ]
                },
                {
                    "name": "stderr",
                    "output_type": "stream",
                    "text": [
                        "Training epochs...:  58%|█████▊    | 58/100 [1:30:38<1:02:34, 89.38s/it]"
                    ]
                },
                {
                    "name": "stdout",
                    "output_type": "stream",
                    "text": [
                        "Saving Best Model with Accuracy:  62.96296296296296\n",
                        "Epoch:  58 | Accuracy : 62.9630%\n"
                    ]
                },
                {
                    "name": "stderr",
                    "output_type": "stream",
                    "text": [
                        "Training epochs...:  59%|█████▉    | 59/100 [1:32:07<1:01:01, 89.30s/it]"
                    ]
                },
                {
                    "name": "stdout",
                    "output_type": "stream",
                    "text": [
                        "Saving Best Model with Accuracy:  63.53276353276353\n",
                        "Epoch:  59 | Accuracy : 63.5328%\n"
                    ]
                },
                {
                    "name": "stderr",
                    "output_type": "stream",
                    "text": [
                        "Training epochs...:  60%|██████    | 60/100 [1:33:36<59:29, 89.25s/it]  "
                    ]
                },
                {
                    "name": "stdout",
                    "output_type": "stream",
                    "text": [
                        "Epoch:  60 | Accuracy : 63.5328%\n"
                    ]
                },
                {
                    "name": "stderr",
                    "output_type": "stream",
                    "text": [
                        "Training epochs...:  61%|██████    | 61/100 [1:35:05<57:58, 89.19s/it]"
                    ]
                },
                {
                    "name": "stdout",
                    "output_type": "stream",
                    "text": [
                        "Saving Best Model with Accuracy:  64.1025641025641\n",
                        "Epoch:  61 | Accuracy : 64.1026%\n"
                    ]
                },
                {
                    "name": "stderr",
                    "output_type": "stream",
                    "text": [
                        "Training epochs...:  62%|██████▏   | 62/100 [1:36:35<56:36, 89.37s/it]"
                    ]
                },
                {
                    "name": "stdout",
                    "output_type": "stream",
                    "text": [
                        "Saving Best Model with Accuracy:  64.38746438746439\n",
                        "Epoch:  62 | Accuracy : 64.3875%\n"
                    ]
                },
                {
                    "name": "stderr",
                    "output_type": "stream",
                    "text": [
                        "Training epochs...:  63%|██████▎   | 63/100 [1:38:04<55:00, 89.21s/it]"
                    ]
                },
                {
                    "name": "stdout",
                    "output_type": "stream",
                    "text": [
                        "Saving Best Model with Accuracy:  64.95726495726495\n",
                        "Epoch:  63 | Accuracy : 64.9573%\n"
                    ]
                },
                {
                    "name": "stderr",
                    "output_type": "stream",
                    "text": [
                        "Training epochs...:  64%|██████▍   | 64/100 [1:39:33<53:30, 89.19s/it]"
                    ]
                },
                {
                    "name": "stdout",
                    "output_type": "stream",
                    "text": [
                        "Epoch:  64 | Accuracy : 64.9573%\n"
                    ]
                },
                {
                    "name": "stderr",
                    "output_type": "stream",
                    "text": [
                        "Training epochs...:  65%|██████▌   | 65/100 [1:41:02<52:03, 89.24s/it]"
                    ]
                },
                {
                    "name": "stdout",
                    "output_type": "stream",
                    "text": [
                        "Saving Best Model with Accuracy:  65.8119658119658\n",
                        "Epoch:  65 | Accuracy : 65.8120%\n"
                    ]
                },
                {
                    "name": "stderr",
                    "output_type": "stream",
                    "text": [
                        "Training epochs...:  66%|██████▌   | 66/100 [1:42:32<50:38, 89.36s/it]"
                    ]
                },
                {
                    "name": "stdout",
                    "output_type": "stream",
                    "text": [
                        "Saving Best Model with Accuracy:  66.38176638176638\n",
                        "Epoch:  66 | Accuracy : 66.3818%\n"
                    ]
                },
                {
                    "name": "stderr",
                    "output_type": "stream",
                    "text": [
                        "Training epochs...:  67%|██████▋   | 67/100 [1:44:02<49:14, 89.52s/it]"
                    ]
                },
                {
                    "name": "stdout",
                    "output_type": "stream",
                    "text": [
                        "Epoch:  67 | Accuracy : 66.3818%\n"
                    ]
                },
                {
                    "name": "stderr",
                    "output_type": "stream",
                    "text": [
                        "Training epochs...:  68%|██████▊   | 68/100 [1:45:31<47:41, 89.41s/it]"
                    ]
                },
                {
                    "name": "stdout",
                    "output_type": "stream",
                    "text": [
                        "Epoch:  68 | Accuracy : 66.3818%\n"
                    ]
                },
                {
                    "name": "stderr",
                    "output_type": "stream",
                    "text": [
                        "Training epochs...:  69%|██████▉   | 69/100 [1:47:01<46:20, 89.70s/it]"
                    ]
                },
                {
                    "name": "stdout",
                    "output_type": "stream",
                    "text": [
                        "Saving Best Model with Accuracy:  66.95156695156695\n",
                        "Epoch:  69 | Accuracy : 66.9516%\n"
                    ]
                },
                {
                    "name": "stderr",
                    "output_type": "stream",
                    "text": [
                        "Training epochs...:  70%|███████   | 70/100 [1:48:31<44:56, 89.89s/it]"
                    ]
                },
                {
                    "name": "stdout",
                    "output_type": "stream",
                    "text": [
                        "Epoch:  70 | Accuracy : 66.9516%\n"
                    ]
                },
                {
                    "name": "stderr",
                    "output_type": "stream",
                    "text": [
                        "Training epochs...:  71%|███████   | 71/100 [1:50:01<43:22, 89.75s/it]"
                    ]
                },
                {
                    "name": "stdout",
                    "output_type": "stream",
                    "text": [
                        "Saving Best Model with Accuracy:  67.23646723646723\n",
                        "Epoch:  71 | Accuracy : 67.2365%\n"
                    ]
                },
                {
                    "name": "stderr",
                    "output_type": "stream",
                    "text": [
                        "Training epochs...:  72%|███████▏  | 72/100 [1:51:30<41:49, 89.61s/it]"
                    ]
                },
                {
                    "name": "stdout",
                    "output_type": "stream",
                    "text": [
                        "Saving Best Model with Accuracy:  67.52136752136752\n",
                        "Epoch:  72 | Accuracy : 67.5214%\n"
                    ]
                },
                {
                    "name": "stderr",
                    "output_type": "stream",
                    "text": [
                        "Training epochs...:  73%|███████▎  | 73/100 [1:53:00<40:24, 89.79s/it]"
                    ]
                },
                {
                    "name": "stdout",
                    "output_type": "stream",
                    "text": [
                        "Epoch:  73 | Accuracy : 67.5214%\n"
                    ]
                },
                {
                    "name": "stderr",
                    "output_type": "stream",
                    "text": [
                        "Training epochs...:  74%|███████▍  | 74/100 [1:54:30<38:54, 89.78s/it]"
                    ]
                },
                {
                    "name": "stdout",
                    "output_type": "stream",
                    "text": [
                        "Saving Best Model with Accuracy:  67.80626780626781\n",
                        "Epoch:  74 | Accuracy : 67.8063%\n"
                    ]
                },
                {
                    "name": "stderr",
                    "output_type": "stream",
                    "text": [
                        "Training epochs...:  75%|███████▌  | 75/100 [1:56:00<37:25, 89.82s/it]"
                    ]
                },
                {
                    "name": "stdout",
                    "output_type": "stream",
                    "text": [
                        "Saving Best Model with Accuracy:  68.09116809116809\n",
                        "Epoch:  75 | Accuracy : 68.0912%\n"
                    ]
                },
                {
                    "name": "stderr",
                    "output_type": "stream",
                    "text": [
                        "Training epochs...:  76%|███████▌  | 76/100 [1:57:30<35:54, 89.79s/it]"
                    ]
                },
                {
                    "name": "stdout",
                    "output_type": "stream",
                    "text": [
                        "Saving Best Model with Accuracy:  68.37606837606837\n",
                        "Epoch:  76 | Accuracy : 68.3761%\n"
                    ]
                },
                {
                    "name": "stderr",
                    "output_type": "stream",
                    "text": [
                        "Training epochs...:  77%|███████▋  | 77/100 [1:58:59<34:23, 89.71s/it]"
                    ]
                },
                {
                    "name": "stdout",
                    "output_type": "stream",
                    "text": [
                        "Epoch:  77 | Accuracy : 68.3761%\n"
                    ]
                },
                {
                    "name": "stderr",
                    "output_type": "stream",
                    "text": [
                        "Training epochs...:  78%|███████▊  | 78/100 [2:00:29<32:54, 89.74s/it]"
                    ]
                },
                {
                    "name": "stdout",
                    "output_type": "stream",
                    "text": [
                        "Saving Best Model with Accuracy:  68.94586894586895\n",
                        "Epoch:  78 | Accuracy : 68.9459%\n"
                    ]
                },
                {
                    "name": "stderr",
                    "output_type": "stream",
                    "text": [
                        "Training epochs...:  79%|███████▉  | 79/100 [2:01:58<31:19, 89.50s/it]"
                    ]
                },
                {
                    "name": "stdout",
                    "output_type": "stream",
                    "text": [
                        "Epoch:  79 | Accuracy : 68.9459%\n"
                    ]
                },
                {
                    "name": "stderr",
                    "output_type": "stream",
                    "text": [
                        "Training epochs...:  80%|████████  | 80/100 [2:03:27<29:45, 89.29s/it]"
                    ]
                },
                {
                    "name": "stdout",
                    "output_type": "stream",
                    "text": [
                        "Saving Best Model with Accuracy:  69.23076923076923\n",
                        "Epoch:  80 | Accuracy : 69.2308%\n"
                    ]
                },
                {
                    "name": "stderr",
                    "output_type": "stream",
                    "text": [
                        "Training epochs...:  81%|████████  | 81/100 [2:04:57<28:20, 89.49s/it]"
                    ]
                },
                {
                    "name": "stdout",
                    "output_type": "stream",
                    "text": [
                        "Saving Best Model with Accuracy:  69.51566951566952\n",
                        "Epoch:  81 | Accuracy : 69.5157%\n"
                    ]
                },
                {
                    "name": "stderr",
                    "output_type": "stream",
                    "text": [
                        "Training epochs...:  82%|████████▏ | 82/100 [2:06:26<26:48, 89.33s/it]"
                    ]
                },
                {
                    "name": "stdout",
                    "output_type": "stream",
                    "text": [
                        "Saving Best Model with Accuracy:  69.8005698005698\n",
                        "Epoch:  82 | Accuracy : 69.8006%\n"
                    ]
                },
                {
                    "name": "stderr",
                    "output_type": "stream",
                    "text": [
                        "Training epochs...:  83%|████████▎ | 83/100 [2:07:55<25:17, 89.29s/it]"
                    ]
                },
                {
                    "name": "stdout",
                    "output_type": "stream",
                    "text": [
                        "Epoch:  83 | Accuracy : 69.5157%\n"
                    ]
                },
                {
                    "name": "stderr",
                    "output_type": "stream",
                    "text": [
                        "Training epochs...:  84%|████████▍ | 84/100 [2:09:24<23:47, 89.22s/it]"
                    ]
                },
                {
                    "name": "stdout",
                    "output_type": "stream",
                    "text": [
                        "Epoch:  84 | Accuracy : 69.8006%\n"
                    ]
                },
                {
                    "name": "stderr",
                    "output_type": "stream",
                    "text": [
                        "Training epochs...:  85%|████████▌ | 85/100 [2:10:53<22:18, 89.23s/it]"
                    ]
                },
                {
                    "name": "stdout",
                    "output_type": "stream",
                    "text": [
                        "Epoch:  85 | Accuracy : 69.8006%\n"
                    ]
                },
                {
                    "name": "stderr",
                    "output_type": "stream",
                    "text": [
                        "Training epochs...:  86%|████████▌ | 86/100 [2:12:24<20:54, 89.59s/it]"
                    ]
                },
                {
                    "name": "stdout",
                    "output_type": "stream",
                    "text": [
                        "Saving Best Model with Accuracy:  70.08547008547009\n",
                        "Epoch:  86 | Accuracy : 70.0855%\n"
                    ]
                },
                {
                    "name": "stderr",
                    "output_type": "stream",
                    "text": [
                        "Training epochs...:  87%|████████▋ | 87/100 [2:13:54<19:27, 89.78s/it]"
                    ]
                },
                {
                    "name": "stdout",
                    "output_type": "stream",
                    "text": [
                        "Epoch:  87 | Accuracy : 70.0855%\n"
                    ]
                },
                {
                    "name": "stderr",
                    "output_type": "stream",
                    "text": [
                        "Training epochs...:  88%|████████▊ | 88/100 [2:15:23<17:56, 89.67s/it]"
                    ]
                },
                {
                    "name": "stdout",
                    "output_type": "stream",
                    "text": [
                        "Saving Best Model with Accuracy:  70.37037037037037\n",
                        "Epoch:  88 | Accuracy : 70.3704%\n"
                    ]
                },
                {
                    "name": "stderr",
                    "output_type": "stream",
                    "text": [
                        "Training epochs...:  89%|████████▉ | 89/100 [2:16:53<16:26, 89.70s/it]"
                    ]
                },
                {
                    "name": "stdout",
                    "output_type": "stream",
                    "text": [
                        "Epoch:  89 | Accuracy : 70.3704%\n"
                    ]
                },
                {
                    "name": "stderr",
                    "output_type": "stream",
                    "text": [
                        "Training epochs...:  90%|█████████ | 90/100 [2:18:22<14:55, 89.52s/it]"
                    ]
                },
                {
                    "name": "stdout",
                    "output_type": "stream",
                    "text": [
                        "Saving Best Model with Accuracy:  70.65527065527066\n",
                        "Epoch:  90 | Accuracy : 70.6553%\n"
                    ]
                },
                {
                    "name": "stderr",
                    "output_type": "stream",
                    "text": [
                        "Training epochs...:  91%|█████████ | 91/100 [2:19:52<13:25, 89.52s/it]"
                    ]
                },
                {
                    "name": "stdout",
                    "output_type": "stream",
                    "text": [
                        "Saving Best Model with Accuracy:  71.22507122507122\n",
                        "Epoch:  91 | Accuracy : 71.2251%\n"
                    ]
                },
                {
                    "name": "stderr",
                    "output_type": "stream",
                    "text": [
                        "Training epochs...:  92%|█████████▏| 92/100 [2:21:21<11:55, 89.41s/it]"
                    ]
                },
                {
                    "name": "stdout",
                    "output_type": "stream",
                    "text": [
                        "Saving Best Model with Accuracy:  71.5099715099715\n",
                        "Epoch:  92 | Accuracy : 71.5100%\n"
                    ]
                },
                {
                    "name": "stderr",
                    "output_type": "stream",
                    "text": [
                        "Training epochs...:  93%|█████████▎| 93/100 [2:22:50<10:25, 89.37s/it]"
                    ]
                },
                {
                    "name": "stdout",
                    "output_type": "stream",
                    "text": [
                        "Epoch:  93 | Accuracy : 71.5100%\n"
                    ]
                },
                {
                    "name": "stderr",
                    "output_type": "stream",
                    "text": [
                        "Training epochs...:  94%|█████████▍| 94/100 [2:24:20<08:56, 89.43s/it]"
                    ]
                },
                {
                    "name": "stdout",
                    "output_type": "stream",
                    "text": [
                        "Saving Best Model with Accuracy:  71.7948717948718\n",
                        "Epoch:  94 | Accuracy : 71.7949%\n"
                    ]
                },
                {
                    "name": "stderr",
                    "output_type": "stream",
                    "text": [
                        "Training epochs...:  95%|█████████▌| 95/100 [2:25:49<07:26, 89.32s/it]"
                    ]
                },
                {
                    "name": "stdout",
                    "output_type": "stream",
                    "text": [
                        "Saving Best Model with Accuracy:  72.07977207977208\n",
                        "Epoch:  95 | Accuracy : 72.0798%\n"
                    ]
                },
                {
                    "name": "stderr",
                    "output_type": "stream",
                    "text": [
                        "Training epochs...:  96%|█████████▌| 96/100 [2:27:19<05:58, 89.67s/it]"
                    ]
                },
                {
                    "name": "stdout",
                    "output_type": "stream",
                    "text": [
                        "Saving Best Model with Accuracy:  72.36467236467236\n",
                        "Epoch:  96 | Accuracy : 72.3647%\n"
                    ]
                },
                {
                    "name": "stderr",
                    "output_type": "stream",
                    "text": [
                        "Training epochs...:  97%|█████████▋| 97/100 [2:28:49<04:29, 89.82s/it]"
                    ]
                },
                {
                    "name": "stdout",
                    "output_type": "stream",
                    "text": [
                        "Epoch:  97 | Accuracy : 72.0798%\n"
                    ]
                },
                {
                    "name": "stderr",
                    "output_type": "stream",
                    "text": [
                        "Training epochs...:  98%|█████████▊| 98/100 [2:30:19<02:59, 89.62s/it]"
                    ]
                },
                {
                    "name": "stdout",
                    "output_type": "stream",
                    "text": [
                        "Epoch:  98 | Accuracy : 72.0798%\n"
                    ]
                },
                {
                    "name": "stderr",
                    "output_type": "stream",
                    "text": [
                        "Training epochs...:  99%|█████████▉| 99/100 [2:31:48<01:29, 89.51s/it]"
                    ]
                },
                {
                    "name": "stdout",
                    "output_type": "stream",
                    "text": [
                        "Epoch:  99 | Accuracy : 72.0798%\n"
                    ]
                },
                {
                    "name": "stderr",
                    "output_type": "stream",
                    "text": [
                        "Training epochs...: 100%|██████████| 100/100 [2:33:18<00:00, 91.98s/it]"
                    ]
                },
                {
                    "name": "stdout",
                    "output_type": "stream",
                    "text": [
                        "Epoch: 100 | Accuracy : 72.0798%\n",
                        "Model saved in: ./models/SoyBean/AlexNet-SoyBean-72.36.pkl\n"
                    ]
                },
                {
                    "name": "stderr",
                    "output_type": "stream",
                    "text": [
                        "\n"
                    ]
                },
                {
                    "data": {
                        "image/png": "[encoded data removed]",
                        "text/plain": [
                            "<Figure size 640x480 with 1 Axes>"
                        ]
                    },
                    "metadata": {},
                    "output_type": "display_data"
                }
            ],
            "source": [
                "if torch.cuda.is_available():\n",
                "    my_device = torch.device(\"cuda:0\")\n",
                "else:\n",
                "    my_device = torch.device(\"cpu\")\n",
                "\n",
                "print(f\"Running on {my_device.type}\")\n",
                "    \n",
                "model = modelResNetTL.to(my_device)\n",
                "\n",
                "epochs = 100\n",
                "lr = 1e-4\n",
                "dataset = 'SoyBean'\n",
                "prefix = 'ResNet18-Adam-TL-{}-e-{}-lr-{}'.format(dataset, epochs, lr)\n",
                "\n",
                "# treina o modelo\n",
                "net = train(train_tensors, test_tensors, model, len(train_data),\n",
                "            epochs=epochs, device=my_device, save=True, \n",
                "            prefix=prefix, lr=lr, layers2tensorboard=True, batch_size=batch_size)"
            ]
        },
        {
            "cell_type": "code",
            "execution_count": null,
            "id": "6636167c-5e67-47c2-b89d-355bf01bf1b9",
            "metadata": {},
            "outputs": [],
            "source": [
                "def sample_and_predict ( net, seed=None ) :\n",
                "\n",
                "    if seed is not None :\n",
                "        np.random.seed(seed)\n",
                "\n",
                "    dataset = torchvision.datasets.ImageFolder(root=dataset_path, transform=None)\n",
                "\n",
                "    data = train_test_dataset(dataset, 0.30)[1]\n",
                "    \n",
                "    # my_transform = AlexNet_Weights.IMAGENET1K_V1.transforms()\n",
                "    # my_transform = ResNet18_Weights.IMAGENET1K_V1.transforms()\n",
                "    i = np.random.randint(len(data))\n",
                "    \n",
                "    sample = data[i][0]\n",
                "    plt.figure(figsize=(2,2))\n",
                "    plt.axis('off')\n",
                "    plt.imshow( sample )\n",
                "\n",
                "    print( f'Sample id: {i:3d}' )\n",
                "    \n",
                "    x = my_transform(sample)\n",
                "    print(x.shape)\n",
                "\n",
                "    x = x.unsqueeze_(0)\n",
                "    print(x.shape)\n",
                "\n",
                "    x = x.to(my_device)\n",
                "    \n",
                "    output = net ( x )\n",
                "    predictions = output.squeeze(0).softmax(0)\n",
                "        \n",
                "    predicted_class = torch.argmax(predictions)\n",
                "    predicted_class = predicted_class.data.cpu().item()\n",
                "    \n",
                "    confidence = predictions[predicted_class]\n",
                "    confidence = confidence.data.cpu().item()\n",
                "    \n",
                "    dataset_classes = [\n",
                "        \"bacterial_blight\", \"brown_spot\", \"crestamento\", \"ferrugem\", \"mossaic_virus\", \"powdery_mildew\",\n",
                "        \"septoria\", \"southern_blight\", \"sudden_death_syndrone\", \"yellow_mosaic\"\n",
                "    ]\n",
                "\n",
                "    if predicted_class == data[i][1] : print('Hit')\n",
                "    else: print('Miss')\n",
                "\n",
                "    print(predicted_class)\n",
                "    print( f'Predicted: {dataset_classes[predicted_class]} | Corrected: {dataset_classes[data[i][1]]} | Confidence: {confidence*100:.2f}%'  )\n",
                "    \n",
                "sample_and_predict(net)\n"
            ]
        }
    ],
    "metadata": {
        "kernelspec": {
            "display_name": "Python 3 (ipykernel)",
            "language": "python",
            "name": "python3"
        },
        "language_info": {
            "codemirror_mode": {
                "name": "ipython",
                "version": 3
            },
            "file_extension": ".py",
            "mimetype": "text/x-python",
            "name": "python",
            "nbconvert_exporter": "python",
            "pygments_lexer": "ipython3",
            "version": "3.10.12"
        }
    },
    "nbformat": 4,
    "nbformat_minor": 5
}
